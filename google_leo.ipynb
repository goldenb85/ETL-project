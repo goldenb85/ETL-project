{
 "cells": [
  {
   "cell_type": "code",
   "execution_count": 1,
   "metadata": {},
   "outputs": [],
   "source": [
    "# import dependencies\n",
    "import pandas as pd\n",
    "from sqlalchemy import create_engine\n",
    "\n",
    "### Store Google Dataset CSV into DataFrame\n",
    "\n",
    "csv_file = \"Google-Playstore-Full.csv\"\n",
    "google_df = pd.read_csv(csv_file,low_memory=False)\n",
    "google_df.head()\n",
    "\n",
    "### Create new data with select columns\n",
    "\n",
    "new_google_df = google_df[['App Name', 'Category', 'Rating','Reviews','Installs','Size','Price','Content Rating']].copy()\n",
    "new_google_df.head()\n",
    "\n",
    "### Rename the columns based on the dataset source\n",
    "\n",
    "google_renamed=new_google_df.rename(columns={\"Category\": \"Category_g\", \"Rating\": \"Rating_g\",\n",
    "                              \"Reviews\":\"Reviews_g\",\"Installs\":\"Installs_g\",\n",
    "                              \"Size\":\"Size_g\",\"Price\":\"Price_g\",\"Content Rating\":\"Content Rating_g\"})\n",
    "google_renamed.head()\n",
    "\n",
    "google_renamed.describe()\n",
    "\n",
    "### Data Cleaning\n",
    "\n",
    "google_renamed.dropna()\n",
    "\n",
    "google_renamed.drop_duplicates(inplace=True)\n",
    "\n",
    "google_renamed.info()"
   ]
  }
 ],
 "metadata": {
  "kernelspec": {
   "display_name": "Python 3",
   "language": "python",
   "name": "python3"
  },
  "language_info": {
   "codemirror_mode": {
    "name": "ipython",
    "version": 3
   },
   "file_extension": ".py",
   "mimetype": "text/x-python",
   "name": "python",
   "nbconvert_exporter": "python",
   "pygments_lexer": "ipython3",
   "version": "3.6.9"
  }
 },
 "nbformat": 4,
 "nbformat_minor": 2
}
