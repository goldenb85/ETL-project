{
 "cells": [
  {
   "cell_type": "code",
   "execution_count": null,
   "metadata": {},
   "outputs": [],
   "source": [
    "import pandas as pd\n",
    "\n",
    "#import csv file into pandas\n",
    "csv_data = pd.read_csv(\"AppleStore.csv\", encoding=\"utf-8\")\n",
    "apple_df = pd.DataFrame(csv_data)\n",
    "apple_df.head(10)\n",
    "\n",
    "final_apple_df = apple_df[[\"track_name\", \"size_bytes\", \"user_rating\", \"rating_count_tot\", \"price\", \"cont_rating\"]].copy()\n",
    "\n",
    "#renamed with appended \"_g\" for google store columns and \"_a\" for apple store\n",
    "final_apple_df.rename(columns = {'track_name':'App_name_a', 'size_bytes': 'Size_a', 'user_rating': 'user_rating_a', 'rating_count_tot': 'rating_count_tot_a', 'price' : 'price_a', 'cont_rating': 'cont_rating_a'}, inplace = True)\n",
    "final_apple_df.head()\n",
    "\n",
    "final_apple_df.drop_duplicates(inplace = True)\n",
    "final_apple_df.dropna(inplace = True)\n",
    "final_apple_df.head()"
   ]
  }
 ],
 "metadata": {
  "kernelspec": {
   "display_name": "Python 3",
   "language": "python",
   "name": "python3"
  },
  "language_info": {
   "codemirror_mode": {
    "name": "ipython",
    "version": 3
   },
   "file_extension": ".py",
   "mimetype": "text/x-python",
   "name": "python",
   "nbconvert_exporter": "python",
   "pygments_lexer": "ipython3",
   "version": "3.6.9"
  }
 },
 "nbformat": 4,
 "nbformat_minor": 2
}
