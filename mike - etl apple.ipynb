{
 "cells": [
  {
   "cell_type": "code",
   "execution_count": 2,
   "metadata": {},
   "outputs": [
    {
     "data": {
      "text/html": [
       "<div>\n",
       "<style scoped>\n",
       "    .dataframe tbody tr th:only-of-type {\n",
       "        vertical-align: middle;\n",
       "    }\n",
       "\n",
       "    .dataframe tbody tr th {\n",
       "        vertical-align: top;\n",
       "    }\n",
       "\n",
       "    .dataframe thead th {\n",
       "        text-align: right;\n",
       "    }\n",
       "</style>\n",
       "<table border=\"1\" class=\"dataframe\">\n",
       "  <thead>\n",
       "    <tr style=\"text-align: right;\">\n",
       "      <th></th>\n",
       "      <th>App_name</th>\n",
       "      <th>Size_a</th>\n",
       "      <th>user_rating_a</th>\n",
       "      <th>rating_count_tot_a</th>\n",
       "      <th>price_a</th>\n",
       "      <th>cont_rating_a</th>\n",
       "    </tr>\n",
       "  </thead>\n",
       "  <tbody>\n",
       "    <tr>\n",
       "      <th>0</th>\n",
       "      <td>PAC-MAN Premium</td>\n",
       "      <td>100788224</td>\n",
       "      <td>4.0</td>\n",
       "      <td>21292</td>\n",
       "      <td>3.99</td>\n",
       "      <td>4+</td>\n",
       "    </tr>\n",
       "    <tr>\n",
       "      <th>1</th>\n",
       "      <td>Evernote - stay organized</td>\n",
       "      <td>158578688</td>\n",
       "      <td>4.0</td>\n",
       "      <td>161065</td>\n",
       "      <td>0.00</td>\n",
       "      <td>4+</td>\n",
       "    </tr>\n",
       "    <tr>\n",
       "      <th>2</th>\n",
       "      <td>WeatherBug - Local Weather, Radar, Maps, Alerts</td>\n",
       "      <td>100524032</td>\n",
       "      <td>3.5</td>\n",
       "      <td>188583</td>\n",
       "      <td>0.00</td>\n",
       "      <td>4+</td>\n",
       "    </tr>\n",
       "    <tr>\n",
       "      <th>3</th>\n",
       "      <td>eBay: Best App to Buy, Sell, Save! Online Shop...</td>\n",
       "      <td>128512000</td>\n",
       "      <td>4.0</td>\n",
       "      <td>262241</td>\n",
       "      <td>0.00</td>\n",
       "      <td>12+</td>\n",
       "    </tr>\n",
       "    <tr>\n",
       "      <th>4</th>\n",
       "      <td>Bible</td>\n",
       "      <td>92774400</td>\n",
       "      <td>4.5</td>\n",
       "      <td>985920</td>\n",
       "      <td>0.00</td>\n",
       "      <td>4+</td>\n",
       "    </tr>\n",
       "  </tbody>\n",
       "</table>\n",
       "</div>"
      ],
      "text/plain": [
       "                                            App_name     Size_a  \\\n",
       "0                                    PAC-MAN Premium  100788224   \n",
       "1                          Evernote - stay organized  158578688   \n",
       "2    WeatherBug - Local Weather, Radar, Maps, Alerts  100524032   \n",
       "3  eBay: Best App to Buy, Sell, Save! Online Shop...  128512000   \n",
       "4                                              Bible   92774400   \n",
       "\n",
       "   user_rating_a  rating_count_tot_a  price_a cont_rating_a  \n",
       "0            4.0               21292     3.99            4+  \n",
       "1            4.0              161065     0.00            4+  \n",
       "2            3.5              188583     0.00            4+  \n",
       "3            4.0              262241     0.00           12+  \n",
       "4            4.5              985920     0.00            4+  "
      ]
     },
     "execution_count": 2,
     "metadata": {},
     "output_type": "execute_result"
    }
   ],
   "source": [
    "import pandas as pd\n",
    "\n",
    "#import csv file into pandas\n",
    "csv_data = pd.read_csv(\"AppleStore.csv\", encoding=\"utf-8\")\n",
    "apple_df = pd.DataFrame(csv_data)\n",
    "apple_df.head(10)\n",
    "\n",
    "final_apple_df = apple_df[[\"track_name\", \"size_bytes\", \"user_rating\", \"rating_count_tot\", \"price\", \"cont_rating\"]].copy()\n",
    "\n",
    "#renamed with appended \"_g\" for google store columns and \"_a\" for apple store\n",
    "final_apple_df.rename(columns = {'track_name':'App_name', 'size_bytes': 'Size_a', 'user_rating': 'user_rating_a', 'rating_count_tot': 'rating_count_tot_a', 'price' : 'price_a', 'cont_rating': 'cont_rating_a'}, inplace = True)\n",
    "final_apple_df.head()\n",
    "\n",
    "final_apple_df.drop_duplicates(inplace = True)\n",
    "final_apple_df.dropna(inplace = True)\n",
    "final_apple_df.head()"
   ]
  },
  {
   "cell_type": "code",
   "execution_count": null,
   "metadata": {},
   "outputs": [],
   "source": [
    "pd.merge(final_apple_df, right, how ='inner', on ='App_name') "
   ]
  }
 ],
 "metadata": {
  "kernelspec": {
   "display_name": "Python 3",
   "language": "python",
   "name": "python3"
  },
  "language_info": {
   "codemirror_mode": {
    "name": "ipython",
    "version": 3
   },
   "file_extension": ".py",
   "mimetype": "text/x-python",
   "name": "python",
   "nbconvert_exporter": "python",
   "pygments_lexer": "ipython3",
   "version": "3.6.9"
  }
 },
 "nbformat": 4,
 "nbformat_minor": 2
}
