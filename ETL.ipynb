{
 "cells": [
  {
   "cell_type": "markdown",
   "metadata": {},
   "source": [
    "### Module import"
   ]
  },
  {
   "cell_type": "code",
   "execution_count": null,
   "metadata": {},
   "outputs": [],
   "source": [
    "# import dependencies\n",
    "import pandas as pd\n",
    "from sqlalchemy import create_engine"
   ]
  },
  {
   "cell_type": "markdown",
   "metadata": {},
   "source": [
    "## Step 1: Data Import: Apple dataset and Google dataset"
   ]
  },
  {
   "cell_type": "markdown",
   "metadata": {},
   "source": [
    "### Apple app store dataset extraction and import"
   ]
  },
  {
   "cell_type": "code",
   "execution_count": 2,
   "metadata": {},
   "outputs": [],
   "source": [
    "#import csv file into pandas\n",
    "csv_data = pd.read_csv(\"AppleStore.csv\", encoding=\"utf-8\")\n",
    "apple_df = pd.DataFrame(csv_data)\n",
    "apple_df.head(10)\n",
    "\n"
   ]
  },
  {
   "cell_type": "markdown",
   "metadata": {},
   "source": [
    "### Google app store dataset extraction, transformation"
   ]
  },
  {
   "cell_type": "markdown",
   "metadata": {},
   "source": [
    "##### Store Google Dataset CSV into DataFrame"
   ]
  },
  {
   "cell_type": "code",
   "execution_count": 4,
   "metadata": {
    "scrolled": true
   },
   "outputs": [
    {
     "data": {
      "text/html": [
       "<div>\n",
       "<style scoped>\n",
       "    .dataframe tbody tr th:only-of-type {\n",
       "        vertical-align: middle;\n",
       "    }\n",
       "\n",
       "    .dataframe tbody tr th {\n",
       "        vertical-align: top;\n",
       "    }\n",
       "\n",
       "    .dataframe thead th {\n",
       "        text-align: right;\n",
       "    }\n",
       "</style>\n",
       "<table border=\"1\" class=\"dataframe\">\n",
       "  <thead>\n",
       "    <tr style=\"text-align: right;\">\n",
       "      <th></th>\n",
       "      <th>App Name</th>\n",
       "      <th>Category</th>\n",
       "      <th>Rating</th>\n",
       "      <th>Reviews</th>\n",
       "      <th>Installs</th>\n",
       "      <th>Size</th>\n",
       "      <th>Price</th>\n",
       "      <th>Content Rating</th>\n",
       "      <th>Last Updated</th>\n",
       "      <th>Minimum Version</th>\n",
       "      <th>Latest Version</th>\n",
       "      <th>Unnamed: 11</th>\n",
       "      <th>Unnamed: 12</th>\n",
       "      <th>Unnamed: 13</th>\n",
       "      <th>Unnamed: 14</th>\n",
       "    </tr>\n",
       "  </thead>\n",
       "  <tbody>\n",
       "    <tr>\n",
       "      <th>0</th>\n",
       "      <td>DoorDash - Food Delivery</td>\n",
       "      <td>FOOD_AND_DRINK</td>\n",
       "      <td>4.548561573</td>\n",
       "      <td>305034</td>\n",
       "      <td>5,000,000+</td>\n",
       "      <td>Varies with device</td>\n",
       "      <td>0</td>\n",
       "      <td>Everyone</td>\n",
       "      <td>March 29, 2019</td>\n",
       "      <td>Varies with device</td>\n",
       "      <td>Varies with device</td>\n",
       "      <td>NaN</td>\n",
       "      <td>NaN</td>\n",
       "      <td>NaN</td>\n",
       "      <td>NaN</td>\n",
       "    </tr>\n",
       "    <tr>\n",
       "      <th>1</th>\n",
       "      <td>TripAdvisor Hotels Flights Restaurants Attract...</td>\n",
       "      <td>TRAVEL_AND_LOCAL</td>\n",
       "      <td>4.400671482</td>\n",
       "      <td>1207922</td>\n",
       "      <td>100,000,000+</td>\n",
       "      <td>Varies with device</td>\n",
       "      <td>0</td>\n",
       "      <td>Everyone</td>\n",
       "      <td>March 29, 2019</td>\n",
       "      <td>Varies with device</td>\n",
       "      <td>Varies with device</td>\n",
       "      <td>NaN</td>\n",
       "      <td>NaN</td>\n",
       "      <td>NaN</td>\n",
       "      <td>NaN</td>\n",
       "    </tr>\n",
       "    <tr>\n",
       "      <th>2</th>\n",
       "      <td>Peapod</td>\n",
       "      <td>SHOPPING</td>\n",
       "      <td>3.656329393</td>\n",
       "      <td>1967</td>\n",
       "      <td>100,000+</td>\n",
       "      <td>1.4M</td>\n",
       "      <td>0</td>\n",
       "      <td>Everyone</td>\n",
       "      <td>September 20, 2018</td>\n",
       "      <td>5.0 and up</td>\n",
       "      <td>2.2.0</td>\n",
       "      <td>NaN</td>\n",
       "      <td>NaN</td>\n",
       "      <td>NaN</td>\n",
       "      <td>NaN</td>\n",
       "    </tr>\n",
       "    <tr>\n",
       "      <th>3</th>\n",
       "      <td>foodpanda - Local Food Delivery</td>\n",
       "      <td>FOOD_AND_DRINK</td>\n",
       "      <td>4.107232571</td>\n",
       "      <td>389154</td>\n",
       "      <td>10,000,000+</td>\n",
       "      <td>16M</td>\n",
       "      <td>0</td>\n",
       "      <td>Everyone</td>\n",
       "      <td>March 22, 2019</td>\n",
       "      <td>4.2 and up</td>\n",
       "      <td>4.18.2</td>\n",
       "      <td>NaN</td>\n",
       "      <td>NaN</td>\n",
       "      <td>NaN</td>\n",
       "      <td>NaN</td>\n",
       "    </tr>\n",
       "    <tr>\n",
       "      <th>4</th>\n",
       "      <td>My CookBook Pro (Ad Free)</td>\n",
       "      <td>FOOD_AND_DRINK</td>\n",
       "      <td>4.647752285</td>\n",
       "      <td>2291</td>\n",
       "      <td>10,000+</td>\n",
       "      <td>Varies with device</td>\n",
       "      <td>$5.99</td>\n",
       "      <td>Everyone</td>\n",
       "      <td>April 1, 2019</td>\n",
       "      <td>Varies with device</td>\n",
       "      <td>Varies with device</td>\n",
       "      <td>NaN</td>\n",
       "      <td>NaN</td>\n",
       "      <td>NaN</td>\n",
       "      <td>NaN</td>\n",
       "    </tr>\n",
       "  </tbody>\n",
       "</table>\n",
       "</div>"
      ],
      "text/plain": [
       "                                            App Name          Category  \\\n",
       "0                           DoorDash - Food Delivery    FOOD_AND_DRINK   \n",
       "1  TripAdvisor Hotels Flights Restaurants Attract...  TRAVEL_AND_LOCAL   \n",
       "2                                             Peapod          SHOPPING   \n",
       "3                    foodpanda - Local Food Delivery    FOOD_AND_DRINK   \n",
       "4                          My CookBook Pro (Ad Free)    FOOD_AND_DRINK   \n",
       "\n",
       "        Rating  Reviews      Installs                Size  Price  \\\n",
       "0  4.548561573   305034    5,000,000+  Varies with device      0   \n",
       "1  4.400671482  1207922  100,000,000+  Varies with device      0   \n",
       "2  3.656329393     1967      100,000+                1.4M      0   \n",
       "3  4.107232571   389154   10,000,000+                 16M      0   \n",
       "4  4.647752285     2291       10,000+  Varies with device  $5.99   \n",
       "\n",
       "  Content Rating        Last Updated     Minimum Version      Latest Version  \\\n",
       "0       Everyone      March 29, 2019  Varies with device  Varies with device   \n",
       "1       Everyone      March 29, 2019  Varies with device  Varies with device   \n",
       "2       Everyone  September 20, 2018          5.0 and up               2.2.0   \n",
       "3       Everyone      March 22, 2019          4.2 and up              4.18.2   \n",
       "4       Everyone       April 1, 2019  Varies with device  Varies with device   \n",
       "\n",
       "  Unnamed: 11 Unnamed: 12 Unnamed: 13  Unnamed: 14  \n",
       "0         NaN         NaN         NaN          NaN  \n",
       "1         NaN         NaN         NaN          NaN  \n",
       "2         NaN         NaN         NaN          NaN  \n",
       "3         NaN         NaN         NaN          NaN  \n",
       "4         NaN         NaN         NaN          NaN  "
      ]
     },
     "execution_count": 4,
     "metadata": {},
     "output_type": "execute_result"
    }
   ],
   "source": [
    "csv_file = \"Google-Playstore-Full.csv\"\n",
    "google_df = pd.read_csv(csv_file,low_memory=False)\n",
    "google_df.head()"
   ]
  },
  {
   "cell_type": "markdown",
   "metadata": {},
   "source": [
    "## Step2: Data Transformation: rename columns, drop missing values, drop duplicates, inner join"
   ]
  },
  {
   "cell_type": "markdown",
   "metadata": {},
   "source": [
    "### Create new data with select columns"
   ]
  },
  {
   "cell_type": "code",
   "execution_count": null,
   "metadata": {},
   "outputs": [],
   "source": [
    "final_apple_df = apple_df[[\"track_name\", \"size_bytes\", \"user_rating\", \"rating_count_tot\", \"price\", \"cont_rating\"]].copy()"
   ]
  },
  {
   "cell_type": "code",
   "execution_count": 5,
   "metadata": {},
   "outputs": [
    {
     "data": {
      "text/html": [
       "<div>\n",
       "<style scoped>\n",
       "    .dataframe tbody tr th:only-of-type {\n",
       "        vertical-align: middle;\n",
       "    }\n",
       "\n",
       "    .dataframe tbody tr th {\n",
       "        vertical-align: top;\n",
       "    }\n",
       "\n",
       "    .dataframe thead th {\n",
       "        text-align: right;\n",
       "    }\n",
       "</style>\n",
       "<table border=\"1\" class=\"dataframe\">\n",
       "  <thead>\n",
       "    <tr style=\"text-align: right;\">\n",
       "      <th></th>\n",
       "      <th>App Name</th>\n",
       "      <th>Category</th>\n",
       "      <th>Rating</th>\n",
       "      <th>Reviews</th>\n",
       "      <th>Installs</th>\n",
       "      <th>Size</th>\n",
       "      <th>Price</th>\n",
       "      <th>Content Rating</th>\n",
       "    </tr>\n",
       "  </thead>\n",
       "  <tbody>\n",
       "    <tr>\n",
       "      <th>0</th>\n",
       "      <td>DoorDash - Food Delivery</td>\n",
       "      <td>FOOD_AND_DRINK</td>\n",
       "      <td>4.548561573</td>\n",
       "      <td>305034</td>\n",
       "      <td>5,000,000+</td>\n",
       "      <td>Varies with device</td>\n",
       "      <td>0</td>\n",
       "      <td>Everyone</td>\n",
       "    </tr>\n",
       "    <tr>\n",
       "      <th>1</th>\n",
       "      <td>TripAdvisor Hotels Flights Restaurants Attract...</td>\n",
       "      <td>TRAVEL_AND_LOCAL</td>\n",
       "      <td>4.400671482</td>\n",
       "      <td>1207922</td>\n",
       "      <td>100,000,000+</td>\n",
       "      <td>Varies with device</td>\n",
       "      <td>0</td>\n",
       "      <td>Everyone</td>\n",
       "    </tr>\n",
       "    <tr>\n",
       "      <th>2</th>\n",
       "      <td>Peapod</td>\n",
       "      <td>SHOPPING</td>\n",
       "      <td>3.656329393</td>\n",
       "      <td>1967</td>\n",
       "      <td>100,000+</td>\n",
       "      <td>1.4M</td>\n",
       "      <td>0</td>\n",
       "      <td>Everyone</td>\n",
       "    </tr>\n",
       "    <tr>\n",
       "      <th>3</th>\n",
       "      <td>foodpanda - Local Food Delivery</td>\n",
       "      <td>FOOD_AND_DRINK</td>\n",
       "      <td>4.107232571</td>\n",
       "      <td>389154</td>\n",
       "      <td>10,000,000+</td>\n",
       "      <td>16M</td>\n",
       "      <td>0</td>\n",
       "      <td>Everyone</td>\n",
       "    </tr>\n",
       "    <tr>\n",
       "      <th>4</th>\n",
       "      <td>My CookBook Pro (Ad Free)</td>\n",
       "      <td>FOOD_AND_DRINK</td>\n",
       "      <td>4.647752285</td>\n",
       "      <td>2291</td>\n",
       "      <td>10,000+</td>\n",
       "      <td>Varies with device</td>\n",
       "      <td>$5.99</td>\n",
       "      <td>Everyone</td>\n",
       "    </tr>\n",
       "  </tbody>\n",
       "</table>\n",
       "</div>"
      ],
      "text/plain": [
       "                                            App Name          Category  \\\n",
       "0                           DoorDash - Food Delivery    FOOD_AND_DRINK   \n",
       "1  TripAdvisor Hotels Flights Restaurants Attract...  TRAVEL_AND_LOCAL   \n",
       "2                                             Peapod          SHOPPING   \n",
       "3                    foodpanda - Local Food Delivery    FOOD_AND_DRINK   \n",
       "4                          My CookBook Pro (Ad Free)    FOOD_AND_DRINK   \n",
       "\n",
       "        Rating  Reviews      Installs                Size  Price  \\\n",
       "0  4.548561573   305034    5,000,000+  Varies with device      0   \n",
       "1  4.400671482  1207922  100,000,000+  Varies with device      0   \n",
       "2  3.656329393     1967      100,000+                1.4M      0   \n",
       "3  4.107232571   389154   10,000,000+                 16M      0   \n",
       "4  4.647752285     2291       10,000+  Varies with device  $5.99   \n",
       "\n",
       "  Content Rating  \n",
       "0       Everyone  \n",
       "1       Everyone  \n",
       "2       Everyone  \n",
       "3       Everyone  \n",
       "4       Everyone  "
      ]
     },
     "execution_count": 5,
     "metadata": {},
     "output_type": "execute_result"
    }
   ],
   "source": [
    "new_google_df = google_df[['App Name', 'Category', 'Rating','Reviews','Installs','Size','Price','Content Rating']].copy()\n",
    "new_google_df.head()"
   ]
  },
  {
   "cell_type": "markdown",
   "metadata": {},
   "source": [
    "### Rename the columns of Apple app list"
   ]
  },
  {
   "cell_type": "code",
   "execution_count": null,
   "metadata": {},
   "outputs": [],
   "source": [
    "#renamed with appended \"_g\" for google store columns and \"_a\" for apple store\n",
    "final_apple_df.rename(columns = {'track_name':'App_Name', 'size_bytes': 'Size_a', 'user_rating': 'user_rating_a', 'rating_count_tot': 'rating_count_tot_a', 'price' : 'price_a', 'cont_rating': 'cont_rating_a'}, inplace = True)\n",
    "final_apple_df.head()"
   ]
  },
  {
   "cell_type": "markdown",
   "metadata": {},
   "source": [
    "### Drop duplicates and missing values of Apple app list"
   ]
  },
  {
   "cell_type": "code",
   "execution_count": 3,
   "metadata": {},
   "outputs": [
    {
     "data": {
      "text/html": [
       "<div>\n",
       "<style scoped>\n",
       "    .dataframe tbody tr th:only-of-type {\n",
       "        vertical-align: middle;\n",
       "    }\n",
       "\n",
       "    .dataframe tbody tr th {\n",
       "        vertical-align: top;\n",
       "    }\n",
       "\n",
       "    .dataframe thead th {\n",
       "        text-align: right;\n",
       "    }\n",
       "</style>\n",
       "<table border=\"1\" class=\"dataframe\">\n",
       "  <thead>\n",
       "    <tr style=\"text-align: right;\">\n",
       "      <th></th>\n",
       "      <th>App_Name</th>\n",
       "      <th>Size_a</th>\n",
       "      <th>user_rating_a</th>\n",
       "      <th>rating_count_tot_a</th>\n",
       "      <th>price_a</th>\n",
       "      <th>cont_rating_a</th>\n",
       "    </tr>\n",
       "  </thead>\n",
       "  <tbody>\n",
       "    <tr>\n",
       "      <th>0</th>\n",
       "      <td>PAC-MAN Premium</td>\n",
       "      <td>100788224</td>\n",
       "      <td>4.0</td>\n",
       "      <td>21292</td>\n",
       "      <td>3.99</td>\n",
       "      <td>4+</td>\n",
       "    </tr>\n",
       "    <tr>\n",
       "      <th>1</th>\n",
       "      <td>Evernote - stay organized</td>\n",
       "      <td>158578688</td>\n",
       "      <td>4.0</td>\n",
       "      <td>161065</td>\n",
       "      <td>0.00</td>\n",
       "      <td>4+</td>\n",
       "    </tr>\n",
       "    <tr>\n",
       "      <th>2</th>\n",
       "      <td>WeatherBug - Local Weather, Radar, Maps, Alerts</td>\n",
       "      <td>100524032</td>\n",
       "      <td>3.5</td>\n",
       "      <td>188583</td>\n",
       "      <td>0.00</td>\n",
       "      <td>4+</td>\n",
       "    </tr>\n",
       "    <tr>\n",
       "      <th>3</th>\n",
       "      <td>eBay: Best App to Buy, Sell, Save! Online Shop...</td>\n",
       "      <td>128512000</td>\n",
       "      <td>4.0</td>\n",
       "      <td>262241</td>\n",
       "      <td>0.00</td>\n",
       "      <td>12+</td>\n",
       "    </tr>\n",
       "    <tr>\n",
       "      <th>4</th>\n",
       "      <td>Bible</td>\n",
       "      <td>92774400</td>\n",
       "      <td>4.5</td>\n",
       "      <td>985920</td>\n",
       "      <td>0.00</td>\n",
       "      <td>4+</td>\n",
       "    </tr>\n",
       "  </tbody>\n",
       "</table>\n",
       "</div>"
      ],
      "text/plain": [
       "                                            App_Name     Size_a  \\\n",
       "0                                    PAC-MAN Premium  100788224   \n",
       "1                          Evernote - stay organized  158578688   \n",
       "2    WeatherBug - Local Weather, Radar, Maps, Alerts  100524032   \n",
       "3  eBay: Best App to Buy, Sell, Save! Online Shop...  128512000   \n",
       "4                                              Bible   92774400   \n",
       "\n",
       "   user_rating_a  rating_count_tot_a  price_a cont_rating_a  \n",
       "0            4.0               21292     3.99            4+  \n",
       "1            4.0              161065     0.00            4+  \n",
       "2            3.5              188583     0.00            4+  \n",
       "3            4.0              262241     0.00           12+  \n",
       "4            4.5              985920     0.00            4+  "
      ]
     },
     "execution_count": 3,
     "metadata": {},
     "output_type": "execute_result"
    }
   ],
   "source": [
    "final_apple_df.drop_duplicates(inplace = True)\n",
    "final_apple_df.dropna(inplace = True)\n",
    "final_apple_df.head()"
   ]
  },
  {
   "cell_type": "markdown",
   "metadata": {},
   "source": [
    "### Rename the columns of Google app list"
   ]
  },
  {
   "cell_type": "code",
   "execution_count": 22,
   "metadata": {},
   "outputs": [
    {
     "data": {
      "text/html": [
       "<div>\n",
       "<style scoped>\n",
       "    .dataframe tbody tr th:only-of-type {\n",
       "        vertical-align: middle;\n",
       "    }\n",
       "\n",
       "    .dataframe tbody tr th {\n",
       "        vertical-align: top;\n",
       "    }\n",
       "\n",
       "    .dataframe thead th {\n",
       "        text-align: right;\n",
       "    }\n",
       "</style>\n",
       "<table border=\"1\" class=\"dataframe\">\n",
       "  <thead>\n",
       "    <tr style=\"text-align: right;\">\n",
       "      <th></th>\n",
       "      <th>App_Name</th>\n",
       "      <th>Category_g</th>\n",
       "      <th>Rating_g</th>\n",
       "      <th>Reviews_g</th>\n",
       "      <th>Installs_g</th>\n",
       "      <th>Size_g</th>\n",
       "      <th>Price_g</th>\n",
       "      <th>Content_Rating_g</th>\n",
       "    </tr>\n",
       "  </thead>\n",
       "  <tbody>\n",
       "    <tr>\n",
       "      <th>count</th>\n",
       "      <td>267051</td>\n",
       "      <td>267051</td>\n",
       "      <td>267052</td>\n",
       "      <td>267051</td>\n",
       "      <td>267052</td>\n",
       "      <td>267052</td>\n",
       "      <td>267052</td>\n",
       "      <td>267052</td>\n",
       "    </tr>\n",
       "    <tr>\n",
       "      <th>unique</th>\n",
       "      <td>244406</td>\n",
       "      <td>67</td>\n",
       "      <td>99856</td>\n",
       "      <td>24544</td>\n",
       "      <td>38</td>\n",
       "      <td>1248</td>\n",
       "      <td>504</td>\n",
       "      <td>12</td>\n",
       "    </tr>\n",
       "    <tr>\n",
       "      <th>top</th>\n",
       "      <td>????</td>\n",
       "      <td>EDUCATION</td>\n",
       "      <td>5</td>\n",
       "      <td>1</td>\n",
       "      <td>10,000+</td>\n",
       "      <td>Varies with device</td>\n",
       "      <td>0</td>\n",
       "      <td>Everyone</td>\n",
       "    </tr>\n",
       "    <tr>\n",
       "      <th>freq</th>\n",
       "      <td>766</td>\n",
       "      <td>33394</td>\n",
       "      <td>23804</td>\n",
       "      <td>9203</td>\n",
       "      <td>60531</td>\n",
       "      <td>11726</td>\n",
       "      <td>255428</td>\n",
       "      <td>241578</td>\n",
       "    </tr>\n",
       "  </tbody>\n",
       "</table>\n",
       "</div>"
      ],
      "text/plain": [
       "       App_Name Category_g Rating_g Reviews_g Installs_g              Size_g  \\\n",
       "count    267051     267051   267052    267051     267052              267052   \n",
       "unique   244406         67    99856     24544         38                1248   \n",
       "top        ????  EDUCATION        5         1    10,000+  Varies with device   \n",
       "freq        766      33394    23804      9203      60531               11726   \n",
       "\n",
       "       Price_g Content_Rating_g  \n",
       "count   267052           267052  \n",
       "unique     504               12  \n",
       "top          0         Everyone  \n",
       "freq    255428           241578  "
      ]
     },
     "execution_count": 22,
     "metadata": {},
     "output_type": "execute_result"
    }
   ],
   "source": [
    "google_renamed=new_google_df.rename(columns={\"App Name\":\"App_Name\",\"Category\": \"Category_g\", \"Rating\": \"Rating_g\",\n",
    "                              \"Reviews\":\"Reviews_g\",\"Installs\":\"Installs_g\",\n",
    "                              \"Size\":\"Size_g\",\"Price\":\"Price_g\",\"Content Rating\":\"Content_Rating_g\"})\n",
    "google_renamed.head()\n",
    "google_renamed.describe()"
   ]
  },
  {
   "cell_type": "markdown",
   "metadata": {},
   "source": [
    "### Drop duplicates and missing values of Google app list"
   ]
  },
  {
   "cell_type": "code",
   "execution_count": 7,
   "metadata": {
    "scrolled": true
   },
   "outputs": [
    {
     "name": "stdout",
     "output_type": "stream",
     "text": [
      "<class 'pandas.core.frame.DataFrame'>\n",
      "Int64Index: 267035 entries, 0 to 267051\n",
      "Data columns (total 8 columns):\n",
      "App_Name            267034 non-null object\n",
      "Category_g          267034 non-null object\n",
      "Rating_g            267035 non-null object\n",
      "Reviews_g           267034 non-null object\n",
      "Installs_g          267035 non-null object\n",
      "Size_g              267035 non-null object\n",
      "Price_g             267035 non-null object\n",
      "Content_Rating_g    267035 non-null object\n",
      "dtypes: object(8)\n",
      "memory usage: 18.3+ MB\n"
     ]
    }
   ],
   "source": [
    "google_renamed.dropna()\n",
    "google_renamed.drop_duplicates(inplace=True)"
   ]
  },
  {
   "cell_type": "code",
   "execution_count": 21,
   "metadata": {},
   "outputs": [
    {
     "name": "stdout",
     "output_type": "stream",
     "text": [
      "<class 'pandas.core.frame.DataFrame'>\n",
      "Int64Index: 267035 entries, 0 to 267051\n",
      "Data columns (total 8 columns):\n",
      "App_Name            267034 non-null object\n",
      "Category_g          267034 non-null object\n",
      "Rating_g            267035 non-null object\n",
      "Reviews_g           267034 non-null object\n",
      "Installs_g          267035 non-null object\n",
      "Size_g              267035 non-null object\n",
      "Price_g             267035 non-null object\n",
      "Content_Rating_g    267035 non-null object\n",
      "dtypes: object(8)\n",
      "memory usage: 18.3+ MB\n"
     ]
    }
   ],
   "source": [
    "google_renamed.info()"
   ]
  },
  {
   "cell_type": "markdown",
   "metadata": {},
   "source": [
    "### Merge two tables based the common key \"App_Name\""
   ]
  },
  {
   "cell_type": "code",
   "execution_count": 8,
   "metadata": {
    "scrolled": true
   },
   "outputs": [],
   "source": [
    "app_df=google_renamed.merge(final_apple_df, how=\"inner\", on=\"App_Name\")"
   ]
  },
  {
   "cell_type": "code",
   "execution_count": 9,
   "metadata": {
    "scrolled": true
   },
   "outputs": [
    {
     "name": "stdout",
     "output_type": "stream",
     "text": [
      "<class 'pandas.core.frame.DataFrame'>\n",
      "Int64Index: 1435 entries, 0 to 1434\n",
      "Data columns (total 13 columns):\n",
      "App_Name              1435 non-null object\n",
      "Category_g            1435 non-null object\n",
      "Rating_g              1435 non-null object\n",
      "Reviews_g             1435 non-null object\n",
      "Installs_g            1435 non-null object\n",
      "Size_g                1435 non-null object\n",
      "Price_g               1435 non-null object\n",
      "Content_Rating_g      1435 non-null object\n",
      "Size_a                1435 non-null int64\n",
      "user_rating_a         1435 non-null float64\n",
      "rating_count_tot_a    1435 non-null int64\n",
      "price_a               1435 non-null float64\n",
      "cont_rating_a         1435 non-null object\n",
      "dtypes: float64(2), int64(2), object(9)\n",
      "memory usage: 157.0+ KB\n"
     ]
    }
   ],
   "source": [
    "app_df.info()"
   ]
  },
  {
   "cell_type": "markdown",
   "metadata": {},
   "source": [
    "### Preview first five rows after merging two tables"
   ]
  },
  {
   "cell_type": "code",
   "execution_count": 10,
   "metadata": {
    "scrolled": true
   },
   "outputs": [
    {
     "data": {
      "text/html": [
       "<div>\n",
       "<style scoped>\n",
       "    .dataframe tbody tr th:only-of-type {\n",
       "        vertical-align: middle;\n",
       "    }\n",
       "\n",
       "    .dataframe tbody tr th {\n",
       "        vertical-align: top;\n",
       "    }\n",
       "\n",
       "    .dataframe thead th {\n",
       "        text-align: right;\n",
       "    }\n",
       "</style>\n",
       "<table border=\"1\" class=\"dataframe\">\n",
       "  <thead>\n",
       "    <tr style=\"text-align: right;\">\n",
       "      <th></th>\n",
       "      <th>App_Name</th>\n",
       "      <th>Category_g</th>\n",
       "      <th>Rating_g</th>\n",
       "      <th>Reviews_g</th>\n",
       "      <th>Installs_g</th>\n",
       "      <th>Size_g</th>\n",
       "      <th>Price_g</th>\n",
       "      <th>Content_Rating_g</th>\n",
       "      <th>Size_a</th>\n",
       "      <th>user_rating_a</th>\n",
       "      <th>rating_count_tot_a</th>\n",
       "      <th>price_a</th>\n",
       "      <th>cont_rating_a</th>\n",
       "    </tr>\n",
       "  </thead>\n",
       "  <tbody>\n",
       "    <tr>\n",
       "      <th>0</th>\n",
       "      <td>DoorDash - Food Delivery</td>\n",
       "      <td>FOOD_AND_DRINK</td>\n",
       "      <td>4.548561573</td>\n",
       "      <td>305034</td>\n",
       "      <td>5,000,000+</td>\n",
       "      <td>Varies with device</td>\n",
       "      <td>0</td>\n",
       "      <td>Everyone</td>\n",
       "      <td>100554752</td>\n",
       "      <td>4.5</td>\n",
       "      <td>25947</td>\n",
       "      <td>0.0</td>\n",
       "      <td>4+</td>\n",
       "    </tr>\n",
       "    <tr>\n",
       "      <th>1</th>\n",
       "      <td>Allrecipes Dinner Spinner</td>\n",
       "      <td>FOOD_AND_DRINK</td>\n",
       "      <td>4.545353413</td>\n",
       "      <td>67514</td>\n",
       "      <td>5,000,000+</td>\n",
       "      <td>Varies with device</td>\n",
       "      <td>0</td>\n",
       "      <td>Everyone</td>\n",
       "      <td>36399104</td>\n",
       "      <td>3.5</td>\n",
       "      <td>109349</td>\n",
       "      <td>0.0</td>\n",
       "      <td>12+</td>\n",
       "    </tr>\n",
       "    <tr>\n",
       "      <th>2</th>\n",
       "      <td>Domino's Pizza USA</td>\n",
       "      <td>FOOD_AND_DRINK</td>\n",
       "      <td>4.739675045</td>\n",
       "      <td>1177040</td>\n",
       "      <td>10,000,000+</td>\n",
       "      <td>Varies with device</td>\n",
       "      <td>0</td>\n",
       "      <td>Everyone</td>\n",
       "      <td>105743360</td>\n",
       "      <td>5.0</td>\n",
       "      <td>258624</td>\n",
       "      <td>0.0</td>\n",
       "      <td>4+</td>\n",
       "    </tr>\n",
       "    <tr>\n",
       "      <th>3</th>\n",
       "      <td>Chick-fil-A</td>\n",
       "      <td>FOOD_AND_DRINK</td>\n",
       "      <td>4.374690533</td>\n",
       "      <td>52526</td>\n",
       "      <td>5,000,000+</td>\n",
       "      <td>19M</td>\n",
       "      <td>0</td>\n",
       "      <td>Everyone</td>\n",
       "      <td>96230400</td>\n",
       "      <td>3.5</td>\n",
       "      <td>5665</td>\n",
       "      <td>0.0</td>\n",
       "      <td>4+</td>\n",
       "    </tr>\n",
       "    <tr>\n",
       "      <th>4</th>\n",
       "      <td>Amazon Prime Now</td>\n",
       "      <td>SHOPPING</td>\n",
       "      <td>3.924423456</td>\n",
       "      <td>24849</td>\n",
       "      <td>10,000,000+</td>\n",
       "      <td>38M</td>\n",
       "      <td>0</td>\n",
       "      <td>Teen</td>\n",
       "      <td>48007168</td>\n",
       "      <td>3.0</td>\n",
       "      <td>895</td>\n",
       "      <td>0.0</td>\n",
       "      <td>4+</td>\n",
       "    </tr>\n",
       "  </tbody>\n",
       "</table>\n",
       "</div>"
      ],
      "text/plain": [
       "                    App_Name      Category_g     Rating_g Reviews_g  \\\n",
       "0   DoorDash - Food Delivery  FOOD_AND_DRINK  4.548561573    305034   \n",
       "1  Allrecipes Dinner Spinner  FOOD_AND_DRINK  4.545353413     67514   \n",
       "2         Domino's Pizza USA  FOOD_AND_DRINK  4.739675045   1177040   \n",
       "3                Chick-fil-A  FOOD_AND_DRINK  4.374690533     52526   \n",
       "4           Amazon Prime Now        SHOPPING  3.924423456     24849   \n",
       "\n",
       "    Installs_g              Size_g Price_g Content_Rating_g     Size_a  \\\n",
       "0   5,000,000+  Varies with device       0         Everyone  100554752   \n",
       "1   5,000,000+  Varies with device       0         Everyone   36399104   \n",
       "2  10,000,000+  Varies with device       0         Everyone  105743360   \n",
       "3   5,000,000+                 19M       0         Everyone   96230400   \n",
       "4  10,000,000+                 38M       0             Teen   48007168   \n",
       "\n",
       "   user_rating_a  rating_count_tot_a  price_a cont_rating_a  \n",
       "0            4.5               25947      0.0            4+  \n",
       "1            3.5              109349      0.0           12+  \n",
       "2            5.0              258624      0.0            4+  \n",
       "3            3.5                5665      0.0            4+  \n",
       "4            3.0                 895      0.0            4+  "
      ]
     },
     "execution_count": 10,
     "metadata": {},
     "output_type": "execute_result"
    }
   ],
   "source": [
    "app_df.head()"
   ]
  },
  {
   "cell_type": "markdown",
   "metadata": {},
   "source": [
    "## Step 3: Data Load: import dataset to postgreSQL"
   ]
  },
  {
   "cell_type": "markdown",
   "metadata": {},
   "source": [
    "### Connect to local database"
   ]
  },
  {
   "cell_type": "code",
   "execution_count": 15,
   "metadata": {},
   "outputs": [],
   "source": [
    "rds_connection_string = \"postgres:@localhost:5432/App_list\"\n",
    "engine = create_engine(f'postgresql://{rds_connection_string}')"
   ]
  },
  {
   "cell_type": "markdown",
   "metadata": {},
   "source": [
    "### Check for tables"
   ]
  },
  {
   "cell_type": "code",
   "execution_count": 16,
   "metadata": {},
   "outputs": [
    {
     "data": {
      "text/plain": [
       "['App_list']"
      ]
     },
     "execution_count": 16,
     "metadata": {},
     "output_type": "execute_result"
    }
   ],
   "source": [
    "engine.table_names()"
   ]
  },
  {
   "cell_type": "markdown",
   "metadata": {},
   "source": [
    "### Use pandas to load json converted DataFrame into database"
   ]
  },
  {
   "cell_type": "code",
   "execution_count": 17,
   "metadata": {},
   "outputs": [],
   "source": [
    "app_df.to_sql(name='app_list', con=engine, if_exists='append', index=False)"
   ]
  },
  {
   "cell_type": "markdown",
   "metadata": {},
   "source": [
    "### Confirm data has been added by querying the App_list table\n",
    "* NOTE: can also check using pgAdmin"
   ]
  },
  {
   "cell_type": "code",
   "execution_count": 18,
   "metadata": {
    "scrolled": true
   },
   "outputs": [
    {
     "data": {
      "text/html": [
       "<div>\n",
       "<style scoped>\n",
       "    .dataframe tbody tr th:only-of-type {\n",
       "        vertical-align: middle;\n",
       "    }\n",
       "\n",
       "    .dataframe tbody tr th {\n",
       "        vertical-align: top;\n",
       "    }\n",
       "\n",
       "    .dataframe thead th {\n",
       "        text-align: right;\n",
       "    }\n",
       "</style>\n",
       "<table border=\"1\" class=\"dataframe\">\n",
       "  <thead>\n",
       "    <tr style=\"text-align: right;\">\n",
       "      <th></th>\n",
       "      <th>App_Name</th>\n",
       "      <th>Category_g</th>\n",
       "      <th>Rating_g</th>\n",
       "      <th>Reviews_g</th>\n",
       "      <th>Installs_g</th>\n",
       "      <th>Size_g</th>\n",
       "      <th>Price_g</th>\n",
       "      <th>Content_Rating_g</th>\n",
       "      <th>Size_a</th>\n",
       "      <th>user_rating_a</th>\n",
       "      <th>rating_count_tot_a</th>\n",
       "      <th>price_a</th>\n",
       "      <th>cont_rating_a</th>\n",
       "    </tr>\n",
       "  </thead>\n",
       "  <tbody>\n",
       "    <tr>\n",
       "      <th>0</th>\n",
       "      <td>DoorDash - Food Delivery</td>\n",
       "      <td>FOOD_AND_DRINK</td>\n",
       "      <td>4.548561573</td>\n",
       "      <td>305034</td>\n",
       "      <td>5,000,000+</td>\n",
       "      <td>Varies with device</td>\n",
       "      <td>0</td>\n",
       "      <td>Everyone</td>\n",
       "      <td>100554752</td>\n",
       "      <td>4.5</td>\n",
       "      <td>25947</td>\n",
       "      <td>0.0</td>\n",
       "      <td>4+</td>\n",
       "    </tr>\n",
       "    <tr>\n",
       "      <th>1</th>\n",
       "      <td>Allrecipes Dinner Spinner</td>\n",
       "      <td>FOOD_AND_DRINK</td>\n",
       "      <td>4.545353413</td>\n",
       "      <td>67514</td>\n",
       "      <td>5,000,000+</td>\n",
       "      <td>Varies with device</td>\n",
       "      <td>0</td>\n",
       "      <td>Everyone</td>\n",
       "      <td>36399104</td>\n",
       "      <td>3.5</td>\n",
       "      <td>109349</td>\n",
       "      <td>0.0</td>\n",
       "      <td>12+</td>\n",
       "    </tr>\n",
       "    <tr>\n",
       "      <th>2</th>\n",
       "      <td>Domino's Pizza USA</td>\n",
       "      <td>FOOD_AND_DRINK</td>\n",
       "      <td>4.739675045</td>\n",
       "      <td>1177040</td>\n",
       "      <td>10,000,000+</td>\n",
       "      <td>Varies with device</td>\n",
       "      <td>0</td>\n",
       "      <td>Everyone</td>\n",
       "      <td>105743360</td>\n",
       "      <td>5.0</td>\n",
       "      <td>258624</td>\n",
       "      <td>0.0</td>\n",
       "      <td>4+</td>\n",
       "    </tr>\n",
       "    <tr>\n",
       "      <th>3</th>\n",
       "      <td>Chick-fil-A</td>\n",
       "      <td>FOOD_AND_DRINK</td>\n",
       "      <td>4.374690533</td>\n",
       "      <td>52526</td>\n",
       "      <td>5,000,000+</td>\n",
       "      <td>19M</td>\n",
       "      <td>0</td>\n",
       "      <td>Everyone</td>\n",
       "      <td>96230400</td>\n",
       "      <td>3.5</td>\n",
       "      <td>5665</td>\n",
       "      <td>0.0</td>\n",
       "      <td>4+</td>\n",
       "    </tr>\n",
       "    <tr>\n",
       "      <th>4</th>\n",
       "      <td>Amazon Prime Now</td>\n",
       "      <td>SHOPPING</td>\n",
       "      <td>3.924423456</td>\n",
       "      <td>24849</td>\n",
       "      <td>10,000,000+</td>\n",
       "      <td>38M</td>\n",
       "      <td>0</td>\n",
       "      <td>Teen</td>\n",
       "      <td>48007168</td>\n",
       "      <td>3.0</td>\n",
       "      <td>895</td>\n",
       "      <td>0.0</td>\n",
       "      <td>4+</td>\n",
       "    </tr>\n",
       "  </tbody>\n",
       "</table>\n",
       "</div>"
      ],
      "text/plain": [
       "                    App_Name      Category_g     Rating_g Reviews_g  \\\n",
       "0   DoorDash - Food Delivery  FOOD_AND_DRINK  4.548561573    305034   \n",
       "1  Allrecipes Dinner Spinner  FOOD_AND_DRINK  4.545353413     67514   \n",
       "2         Domino's Pizza USA  FOOD_AND_DRINK  4.739675045   1177040   \n",
       "3                Chick-fil-A  FOOD_AND_DRINK  4.374690533     52526   \n",
       "4           Amazon Prime Now        SHOPPING  3.924423456     24849   \n",
       "\n",
       "    Installs_g              Size_g Price_g Content_Rating_g     Size_a  \\\n",
       "0   5,000,000+  Varies with device       0         Everyone  100554752   \n",
       "1   5,000,000+  Varies with device       0         Everyone   36399104   \n",
       "2  10,000,000+  Varies with device       0         Everyone  105743360   \n",
       "3   5,000,000+                 19M       0         Everyone   96230400   \n",
       "4  10,000,000+                 38M       0             Teen   48007168   \n",
       "\n",
       "   user_rating_a  rating_count_tot_a  price_a cont_rating_a  \n",
       "0            4.5               25947      0.0            4+  \n",
       "1            3.5              109349      0.0           12+  \n",
       "2            5.0              258624      0.0            4+  \n",
       "3            3.5                5665      0.0            4+  \n",
       "4            3.0                 895      0.0            4+  "
      ]
     },
     "execution_count": 18,
     "metadata": {},
     "output_type": "execute_result"
    }
   ],
   "source": [
    "pd.read_sql_query('select * from app_list', con=engine).head()"
   ]
  },
  {
   "cell_type": "code",
   "execution_count": null,
   "metadata": {},
   "outputs": [],
   "source": []
  }
 ],
 "metadata": {
  "kernelspec": {
   "display_name": "Python 3",
   "language": "python",
   "name": "python3"
  },
  "language_info": {
   "codemirror_mode": {
    "name": "ipython",
    "version": 3
   },
   "file_extension": ".py",
   "mimetype": "text/x-python",
   "name": "python",
   "nbconvert_exporter": "python",
   "pygments_lexer": "ipython3",
   "version": "3.6.9"
  }
 },
 "nbformat": 4,
 "nbformat_minor": 2
}
